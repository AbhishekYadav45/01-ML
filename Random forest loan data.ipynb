{
 "cells": [
  {
   "cell_type": "code",
   "execution_count": 15,
   "id": "36fa9ef0",
   "metadata": {},
   "outputs": [
    {
     "data": {
      "text/html": [
       "<div>\n",
       "<style scoped>\n",
       "    .dataframe tbody tr th:only-of-type {\n",
       "        vertical-align: middle;\n",
       "    }\n",
       "\n",
       "    .dataframe tbody tr th {\n",
       "        vertical-align: top;\n",
       "    }\n",
       "\n",
       "    .dataframe thead th {\n",
       "        text-align: right;\n",
       "    }\n",
       "</style>\n",
       "<table border=\"1\" class=\"dataframe\">\n",
       "  <thead>\n",
       "    <tr style=\"text-align: right;\">\n",
       "      <th></th>\n",
       "      <th>Gender</th>\n",
       "      <th>Age</th>\n",
       "      <th>Income</th>\n",
       "      <th>Employment_Status</th>\n",
       "      <th>Credit_Score</th>\n",
       "      <th>Loan_Amount</th>\n",
       "      <th>Loan_Term_Months</th>\n",
       "      <th>Has_Defaulted_Before</th>\n",
       "      <th>Fraudulent_Activity</th>\n",
       "      <th>Loan_Status</th>\n",
       "    </tr>\n",
       "  </thead>\n",
       "  <tbody>\n",
       "    <tr>\n",
       "      <th>0</th>\n",
       "      <td>Male</td>\n",
       "      <td>59</td>\n",
       "      <td>45426</td>\n",
       "      <td>Unemployed</td>\n",
       "      <td>527</td>\n",
       "      <td>47418</td>\n",
       "      <td>48</td>\n",
       "      <td>0</td>\n",
       "      <td>0</td>\n",
       "      <td>Under Review</td>\n",
       "    </tr>\n",
       "    <tr>\n",
       "      <th>1</th>\n",
       "      <td>Male</td>\n",
       "      <td>49</td>\n",
       "      <td>37772</td>\n",
       "      <td>Student</td>\n",
       "      <td>401</td>\n",
       "      <td>36163</td>\n",
       "      <td>60</td>\n",
       "      <td>1</td>\n",
       "      <td>0</td>\n",
       "      <td>Rejected</td>\n",
       "    </tr>\n",
       "    <tr>\n",
       "      <th>2</th>\n",
       "      <td>Female</td>\n",
       "      <td>35</td>\n",
       "      <td>123754</td>\n",
       "      <td>Unemployed</td>\n",
       "      <td>716</td>\n",
       "      <td>25604</td>\n",
       "      <td>24</td>\n",
       "      <td>1</td>\n",
       "      <td>0</td>\n",
       "      <td>Rejected</td>\n",
       "    </tr>\n",
       "    <tr>\n",
       "      <th>3</th>\n",
       "      <td>Male</td>\n",
       "      <td>63</td>\n",
       "      <td>23712</td>\n",
       "      <td>Unemployed</td>\n",
       "      <td>515</td>\n",
       "      <td>16310</td>\n",
       "      <td>60</td>\n",
       "      <td>1</td>\n",
       "      <td>0</td>\n",
       "      <td>Rejected</td>\n",
       "    </tr>\n",
       "    <tr>\n",
       "      <th>4</th>\n",
       "      <td>Male</td>\n",
       "      <td>28</td>\n",
       "      <td>21367</td>\n",
       "      <td>Self-employed</td>\n",
       "      <td>706</td>\n",
       "      <td>9226</td>\n",
       "      <td>12</td>\n",
       "      <td>1</td>\n",
       "      <td>0</td>\n",
       "      <td>Rejected</td>\n",
       "    </tr>\n",
       "  </tbody>\n",
       "</table>\n",
       "</div>"
      ],
      "text/plain": [
       "   Gender  Age  Income Employment_Status  Credit_Score  Loan_Amount  \\\n",
       "0    Male   59   45426        Unemployed           527        47418   \n",
       "1    Male   49   37772           Student           401        36163   \n",
       "2  Female   35  123754        Unemployed           716        25604   \n",
       "3    Male   63   23712        Unemployed           515        16310   \n",
       "4    Male   28   21367     Self-employed           706         9226   \n",
       "\n",
       "   Loan_Term_Months  Has_Defaulted_Before  Fraudulent_Activity   Loan_Status  \n",
       "0                48                     0                    0  Under Review  \n",
       "1                60                     1                    0      Rejected  \n",
       "2                24                     1                    0      Rejected  \n",
       "3                60                     1                    0      Rejected  \n",
       "4                12                     1                    0      Rejected  "
      ]
     },
     "execution_count": 15,
     "metadata": {},
     "output_type": "execute_result"
    }
   ],
   "source": [
    "import pandas as pd\n",
    "\n",
    "# Load your dataset\n",
    "df = pd.read_csv('C:/Users/abhis/OneDrive/Desktop/ML/Random Forest/random_forest_loan_data.csv')  # Replace with your file path\n",
    "df.head()"
   ]
  },
  {
   "cell_type": "code",
   "execution_count": 16,
   "id": "8e9522d2",
   "metadata": {},
   "outputs": [],
   "source": [
    "#clean"
   ]
  },
  {
   "cell_type": "code",
   "execution_count": 17,
   "id": "7ee42c1b",
   "metadata": {},
   "outputs": [
    {
     "name": "stdout",
     "output_type": "stream",
     "text": [
      "Rejected        1339\n",
      "Under Review     441\n",
      "Approved         220\n",
      "Name: Loan_Status, dtype: int64\n",
      "               Age         Income  Credit_Score   Loan_Amount  \\\n",
      "count  2000.000000    2000.000000   2000.000000   2000.000000   \n",
      "mean     42.694000   83412.557500    577.277500  25303.847500   \n",
      "std      12.614195   37463.149497    157.800669  14138.869656   \n",
      "min      21.000000   20138.000000    300.000000   1048.000000   \n",
      "25%      32.000000   50436.000000    442.000000  13105.250000   \n",
      "50%      43.000000   83296.500000    576.000000  25135.000000   \n",
      "75%      54.000000  115031.000000    716.250000  37798.500000   \n",
      "max      64.000000  149992.000000    849.000000  49947.000000   \n",
      "\n",
      "       Loan_Term_Months  Has_Defaulted_Before  Fraudulent_Activity  \n",
      "count       2000.000000           2000.000000           2000.00000  \n",
      "mean          35.142000              0.475000              0.03950  \n",
      "std           16.955223              0.499499              0.19483  \n",
      "min           12.000000              0.000000              0.00000  \n",
      "25%           24.000000              0.000000              0.00000  \n",
      "50%           36.000000              0.000000              0.00000  \n",
      "75%           48.000000              1.000000              0.00000  \n",
      "max           60.000000              1.000000              1.00000  \n"
     ]
    },
    {
     "data": {
      "image/png": "[encoded data removed]",
      "text/plain": [
       "<Figure size 432x288 with 1 Axes>"
      ]
     },
     "metadata": {
      "needs_background": "light"
     },
     "output_type": "display_data"
    }
   ],
   "source": [
    "# Value counts for the target variable\n",
    "print(df['Loan_Status'].value_counts())\n",
    "\n",
    "# Basic summary statistics\n",
    "print(df.describe())\n",
    "\n",
    "# Distribution plots (optional if using matplotlib/seaborn)\n",
    "import seaborn as sns\n",
    "import matplotlib.pyplot as plt\n",
    "\n",
    "sns.countplot(data=df, x='Loan_Status')\n",
    "plt.show()\n"
   ]
  },
  {
   "cell_type": "code",
   "execution_count": 31,
   "id": "858f47d0",
   "metadata": {},
   "outputs": [],
   "source": [
    "#Feature Selection"
   ]
  },
  {
   "cell_type": "code",
   "execution_count": 32,
   "id": "fa4d7c40",
   "metadata": {},
   "outputs": [],
   "source": [
    "df_encoded = pd.get_dummies(df.drop(columns=['Loan_Status']), drop_first=True)\n"
   ]
  },
  {
   "cell_type": "code",
   "execution_count": 33,
   "id": "51606e2d",
   "metadata": {},
   "outputs": [],
   "source": [
    "from sklearn.preprocessing import LabelEncoder\n",
    "\n",
    "le = LabelEncoder()\n",
    "df['Loan_Status_Code'] = le.fit_transform(df['Loan_Status'])\n"
   ]
  },
  {
   "cell_type": "code",
   "execution_count": 34,
   "id": "4b7812a3",
   "metadata": {},
   "outputs": [],
   "source": [
    "#Feature Selection"
   ]
  },
  {
   "cell_type": "code",
   "execution_count": 35,
   "id": "442805e9",
   "metadata": {},
   "outputs": [
    {
     "name": "stdout",
     "output_type": "stream",
     "text": [
      "Income                 -0.220421\n",
      "Credit_Score           -0.118878\n",
      "Has_Defaulted_Before   -0.186302\n",
      "Loan_Status_Code        1.000000\n",
      "Name: Loan_Status_Code, dtype: float64\n"
     ]
    }
   ],
   "source": [
    "df_temp = df.copy()\n",
    "df_temp_encoded = pd.get_dummies(df_temp.drop(columns=['Loan_Status']), drop_first=True)\n",
    "\n",
    "cor = df_temp_encoded.corr()\n",
    "cor_target = cor['Loan_Status_Code']\n",
    "print(cor_target[abs(cor_target) > 0.1])\n"
   ]
  },
  {
   "cell_type": "code",
   "execution_count": 36,
   "id": "a23538e9",
   "metadata": {},
   "outputs": [],
   "source": [
    "#Prepare Data for Model"
   ]
  },
  {
   "cell_type": "code",
   "execution_count": 37,
   "id": "6044ab36",
   "metadata": {},
   "outputs": [],
   "source": [
    "X = df_encoded\n",
    "y = df['Loan_Status_Code']\n",
    "\n",
    "from sklearn.model_selection import train_test_split\n",
    "\n",
    "X_train, X_test, y_train, y_test = train_test_split(X, y, test_size=0.2, random_state=42)\n"
   ]
  },
  {
   "cell_type": "code",
   "execution_count": 38,
   "id": "dcea8e51",
   "metadata": {},
   "outputs": [
    {
     "data": {
      "text/plain": [
       "RandomForestClassifier(random_state=42)"
      ]
     },
     "execution_count": 38,
     "metadata": {},
     "output_type": "execute_result"
    }
   ],
   "source": [
    "from sklearn.ensemble import RandomForestClassifier\n",
    "\n",
    "model = RandomForestClassifier(random_state=42)\n",
    "model.fit(X_train, y_train)\n"
   ]
  },
  {
   "cell_type": "code",
   "execution_count": 39,
   "id": "223e813a",
   "metadata": {},
   "outputs": [],
   "source": [
    "# Evaluate the Model"
   ]
  },
  {
   "cell_type": "code",
   "execution_count": 40,
   "id": "a4de8e21",
   "metadata": {},
   "outputs": [
    {
     "name": "stdout",
     "output_type": "stream",
     "text": [
      "[[ 38   0   0]\n",
      " [  0 276   0]\n",
      " [  0   0  86]]\n",
      "              precision    recall  f1-score   support\n",
      "\n",
      "    Approved       1.00      1.00      1.00        38\n",
      "    Rejected       1.00      1.00      1.00       276\n",
      "Under Review       1.00      1.00      1.00        86\n",
      "\n",
      "    accuracy                           1.00       400\n",
      "   macro avg       1.00      1.00      1.00       400\n",
      "weighted avg       1.00      1.00      1.00       400\n",
      "\n"
     ]
    }
   ],
   "source": [
    "from sklearn.metrics import classification_report, confusion_matrix\n",
    "\n",
    "y_pred = model.predict(X_test)\n",
    "\n",
    "# Confusion Matrix\n",
    "print(confusion_matrix(y_test, y_pred))\n",
    "\n",
    "# Classification Report\n",
    "print(classification_report(y_test, y_pred, target_names=le.classes_))\n"
   ]
  },
  {
   "cell_type": "code",
   "execution_count": null,
   "id": "6bb47a5c",
   "metadata": {},
   "outputs": [],
   "source": []
  },
  {
   "cell_type": "code",
   "execution_count": null,
   "id": "936952ee",
   "metadata": {},
   "outputs": [],
   "source": [
    "import matplotlib.pyplot as plt\n",
    "import seaborn as sns\n",
    "\n",
    "feature_importance = pd.Series(model.feature_importances_, index=X.columns)\n",
    "top_features = feature_importance.sort_values(ascending=False).head(10)\n",
    "\n",
    "plt.figure(figsize=(10, 6))\n",
    "sns.barplot(x=top_features, y=top_features.index)\n",
    "plt.title(\"Top 10 Important Features\")\n",
    "plt.xlabel(\"Feature Importance\")\n",
    "plt.show()\n"
   ]
  }
 ],
 "metadata": {
  "kernelspec": {
   "display_name": "Python 3 (ipykernel)",
   "language": "python",
   "name": "python3"
  },
  "language_info": {
   "codemirror_mode": {
    "name": "ipython",
    "version": 3
   },
   "file_extension": ".py",
   "mimetype": "text/x-python",
   "name": "python",
   "nbconvert_exporter": "python",
   "pygments_lexer": "ipython3",
   "version": "3.9.7"
  }
 },
 "nbformat": 4,
 "nbformat_minor": 5
}
