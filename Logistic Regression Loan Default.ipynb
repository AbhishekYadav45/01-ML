{
 "cells": [
  {
   "cell_type": "code",
   "execution_count": 173,
   "id": "d8bae923",
   "metadata": {},
   "outputs": [],
   "source": [
    "import pandas as pd\n",
    "import numpy as np\n",
    "import matplotlib.pyplot as plt\n",
    "import seaborn as sns\n",
    "\n",
    "from sklearn.model_selection import train_test_split\n",
    "from sklearn.linear_model import LogisticRegression\n",
    "from sklearn.metrics import accuracy_score, confusion_matrix, classification_report, roc_auc_score, roc_curve\n"
   ]
  },
  {
   "cell_type": "code",
   "execution_count": 174,
   "id": "a0e07a59",
   "metadata": {},
   "outputs": [
    {
     "data": {
      "text/html": [
       "<div>\n",
       "<style scoped>\n",
       "    .dataframe tbody tr th:only-of-type {\n",
       "        vertical-align: middle;\n",
       "    }\n",
       "\n",
       "    .dataframe tbody tr th {\n",
       "        vertical-align: top;\n",
       "    }\n",
       "\n",
       "    .dataframe thead th {\n",
       "        text-align: right;\n",
       "    }\n",
       "</style>\n",
       "<table border=\"1\" class=\"dataframe\">\n",
       "  <thead>\n",
       "    <tr style=\"text-align: right;\">\n",
       "      <th></th>\n",
       "      <th>LoanID</th>\n",
       "      <th>Age</th>\n",
       "      <th>Income</th>\n",
       "      <th>LoanAmount</th>\n",
       "      <th>CreditScore</th>\n",
       "      <th>MonthsEmployed</th>\n",
       "      <th>NumCreditLines</th>\n",
       "      <th>InterestRate</th>\n",
       "      <th>LoanTerm</th>\n",
       "      <th>DTIRatio</th>\n",
       "      <th>Education</th>\n",
       "      <th>EmploymentType</th>\n",
       "      <th>MaritalStatus</th>\n",
       "      <th>HasMortgage</th>\n",
       "      <th>HasDependents</th>\n",
       "      <th>LoanPurpose</th>\n",
       "      <th>HasCoSigner</th>\n",
       "      <th>Default</th>\n",
       "    </tr>\n",
       "  </thead>\n",
       "  <tbody>\n",
       "    <tr>\n",
       "      <th>0</th>\n",
       "      <td>I38PQUQS96</td>\n",
       "      <td>56</td>\n",
       "      <td>85994</td>\n",
       "      <td>50587</td>\n",
       "      <td>520</td>\n",
       "      <td>80</td>\n",
       "      <td>4</td>\n",
       "      <td>15.23</td>\n",
       "      <td>36</td>\n",
       "      <td>0.44</td>\n",
       "      <td>Bachelor's</td>\n",
       "      <td>Full-time</td>\n",
       "      <td>Divorced</td>\n",
       "      <td>Yes</td>\n",
       "      <td>Yes</td>\n",
       "      <td>Other</td>\n",
       "      <td>Yes</td>\n",
       "      <td>0</td>\n",
       "    </tr>\n",
       "    <tr>\n",
       "      <th>1</th>\n",
       "      <td>HPSK72WA7R</td>\n",
       "      <td>69</td>\n",
       "      <td>50432</td>\n",
       "      <td>124440</td>\n",
       "      <td>458</td>\n",
       "      <td>15</td>\n",
       "      <td>1</td>\n",
       "      <td>4.81</td>\n",
       "      <td>60</td>\n",
       "      <td>0.68</td>\n",
       "      <td>Master's</td>\n",
       "      <td>Full-time</td>\n",
       "      <td>Married</td>\n",
       "      <td>No</td>\n",
       "      <td>No</td>\n",
       "      <td>Other</td>\n",
       "      <td>Yes</td>\n",
       "      <td>0</td>\n",
       "    </tr>\n",
       "    <tr>\n",
       "      <th>2</th>\n",
       "      <td>C1OZ6DPJ8Y</td>\n",
       "      <td>46</td>\n",
       "      <td>84208</td>\n",
       "      <td>129188</td>\n",
       "      <td>451</td>\n",
       "      <td>26</td>\n",
       "      <td>3</td>\n",
       "      <td>21.17</td>\n",
       "      <td>24</td>\n",
       "      <td>0.31</td>\n",
       "      <td>Master's</td>\n",
       "      <td>Unemployed</td>\n",
       "      <td>Divorced</td>\n",
       "      <td>Yes</td>\n",
       "      <td>Yes</td>\n",
       "      <td>Auto</td>\n",
       "      <td>No</td>\n",
       "      <td>1</td>\n",
       "    </tr>\n",
       "    <tr>\n",
       "      <th>3</th>\n",
       "      <td>V2KKSFM3UN</td>\n",
       "      <td>32</td>\n",
       "      <td>31713</td>\n",
       "      <td>44799</td>\n",
       "      <td>743</td>\n",
       "      <td>0</td>\n",
       "      <td>3</td>\n",
       "      <td>7.07</td>\n",
       "      <td>24</td>\n",
       "      <td>0.23</td>\n",
       "      <td>High School</td>\n",
       "      <td>Full-time</td>\n",
       "      <td>Married</td>\n",
       "      <td>No</td>\n",
       "      <td>No</td>\n",
       "      <td>Business</td>\n",
       "      <td>No</td>\n",
       "      <td>0</td>\n",
       "    </tr>\n",
       "    <tr>\n",
       "      <th>4</th>\n",
       "      <td>EY08JDHTZP</td>\n",
       "      <td>60</td>\n",
       "      <td>20437</td>\n",
       "      <td>9139</td>\n",
       "      <td>633</td>\n",
       "      <td>8</td>\n",
       "      <td>4</td>\n",
       "      <td>6.51</td>\n",
       "      <td>48</td>\n",
       "      <td>0.73</td>\n",
       "      <td>Bachelor's</td>\n",
       "      <td>Unemployed</td>\n",
       "      <td>Divorced</td>\n",
       "      <td>No</td>\n",
       "      <td>Yes</td>\n",
       "      <td>Auto</td>\n",
       "      <td>No</td>\n",
       "      <td>0</td>\n",
       "    </tr>\n",
       "  </tbody>\n",
       "</table>\n",
       "</div>"
      ],
      "text/plain": [
       "       LoanID  Age  Income  LoanAmount  CreditScore  MonthsEmployed  \\\n",
       "0  I38PQUQS96   56   85994       50587          520              80   \n",
       "1  HPSK72WA7R   69   50432      124440          458              15   \n",
       "2  C1OZ6DPJ8Y   46   84208      129188          451              26   \n",
       "3  V2KKSFM3UN   32   31713       44799          743               0   \n",
       "4  EY08JDHTZP   60   20437        9139          633               8   \n",
       "\n",
       "   NumCreditLines  InterestRate  LoanTerm  DTIRatio    Education  \\\n",
       "0               4         15.23        36      0.44   Bachelor's   \n",
       "1               1          4.81        60      0.68     Master's   \n",
       "2               3         21.17        24      0.31     Master's   \n",
       "3               3          7.07        24      0.23  High School   \n",
       "4               4          6.51        48      0.73   Bachelor's   \n",
       "\n",
       "  EmploymentType MaritalStatus HasMortgage HasDependents LoanPurpose  \\\n",
       "0      Full-time      Divorced         Yes           Yes       Other   \n",
       "1      Full-time       Married          No            No       Other   \n",
       "2     Unemployed      Divorced         Yes           Yes        Auto   \n",
       "3      Full-time       Married          No            No    Business   \n",
       "4     Unemployed      Divorced          No           Yes        Auto   \n",
       "\n",
       "  HasCoSigner  Default  \n",
       "0         Yes        0  \n",
       "1         Yes        0  \n",
       "2          No        1  \n",
       "3          No        0  \n",
       "4          No        0  "
      ]
     },
     "execution_count": 174,
     "metadata": {},
     "output_type": "execute_result"
    }
   ],
   "source": [
    "import pandas as pd\n",
    "\n",
    "# Load your dataset\n",
    "df = pd.read_csv('C:/Users/abhis/OneDrive/Desktop/ML/Logistic Regression/Loan_default.csv')  # Replace with your file path\n",
    "df.head()"
   ]
  },
  {
   "cell_type": "markdown",
   "id": "6ac6b646",
   "metadata": {},
   "source": [
    "# Understand the Dataset"
   ]
  },
  {
   "cell_type": "code",
   "execution_count": 175,
   "id": "045f7a50",
   "metadata": {},
   "outputs": [
    {
     "name": "stdout",
     "output_type": "stream",
     "text": [
      "<class 'pandas.core.frame.DataFrame'>\n",
      "RangeIndex: 255347 entries, 0 to 255346\n",
      "Data columns (total 18 columns):\n",
      " #   Column          Non-Null Count   Dtype  \n",
      "---  ------          --------------   -----  \n",
      " 0   LoanID          255347 non-null  object \n",
      " 1   Age             255347 non-null  int64  \n",
      " 2   Income          255347 non-null  int64  \n",
      " 3   LoanAmount      255347 non-null  int64  \n",
      " 4   CreditScore     255347 non-null  int64  \n",
      " 5   MonthsEmployed  255347 non-null  int64  \n",
      " 6   NumCreditLines  255347 non-null  int64  \n",
      " 7   InterestRate    255347 non-null  float64\n",
      " 8   LoanTerm        255347 non-null  int64  \n",
      " 9   DTIRatio        255347 non-null  float64\n",
      " 10  Education       255347 non-null  object \n",
      " 11  EmploymentType  255347 non-null  object \n",
      " 12  MaritalStatus   255347 non-null  object \n",
      " 13  HasMortgage     255347 non-null  object \n",
      " 14  HasDependents   255347 non-null  object \n",
      " 15  LoanPurpose     255347 non-null  object \n",
      " 16  HasCoSigner     255347 non-null  object \n",
      " 17  Default         255347 non-null  int64  \n",
      "dtypes: float64(2), int64(8), object(8)\n",
      "memory usage: 35.1+ MB\n"
     ]
    }
   ],
   "source": [
    "df.info()\n",
    "\n"
   ]
  },
  {
   "cell_type": "code",
   "execution_count": 176,
   "id": "4712a212",
   "metadata": {},
   "outputs": [
    {
     "data": {
      "text/html": [
       "<div>\n",
       "<style scoped>\n",
       "    .dataframe tbody tr th:only-of-type {\n",
       "        vertical-align: middle;\n",
       "    }\n",
       "\n",
       "    .dataframe tbody tr th {\n",
       "        vertical-align: top;\n",
       "    }\n",
       "\n",
       "    .dataframe thead th {\n",
       "        text-align: right;\n",
       "    }\n",
       "</style>\n",
       "<table border=\"1\" class=\"dataframe\">\n",
       "  <thead>\n",
       "    <tr style=\"text-align: right;\">\n",
       "      <th></th>\n",
       "      <th>Age</th>\n",
       "      <th>Income</th>\n",
       "      <th>LoanAmount</th>\n",
       "      <th>CreditScore</th>\n",
       "      <th>MonthsEmployed</th>\n",
       "      <th>NumCreditLines</th>\n",
       "      <th>InterestRate</th>\n",
       "      <th>LoanTerm</th>\n",
       "      <th>DTIRatio</th>\n",
       "      <th>Default</th>\n",
       "    </tr>\n",
       "  </thead>\n",
       "  <tbody>\n",
       "    <tr>\n",
       "      <th>count</th>\n",
       "      <td>255347.000000</td>\n",
       "      <td>255347.000000</td>\n",
       "      <td>255347.000000</td>\n",
       "      <td>255347.000000</td>\n",
       "      <td>255347.000000</td>\n",
       "      <td>255347.000000</td>\n",
       "      <td>255347.000000</td>\n",
       "      <td>255347.000000</td>\n",
       "      <td>255347.000000</td>\n",
       "      <td>255347.000000</td>\n",
       "    </tr>\n",
       "    <tr>\n",
       "      <th>mean</th>\n",
       "      <td>43.498306</td>\n",
       "      <td>82499.304597</td>\n",
       "      <td>127578.865512</td>\n",
       "      <td>574.264346</td>\n",
       "      <td>59.541976</td>\n",
       "      <td>2.501036</td>\n",
       "      <td>13.492773</td>\n",
       "      <td>36.025894</td>\n",
       "      <td>0.500212</td>\n",
       "      <td>0.116128</td>\n",
       "    </tr>\n",
       "    <tr>\n",
       "      <th>std</th>\n",
       "      <td>14.990258</td>\n",
       "      <td>38963.013729</td>\n",
       "      <td>70840.706142</td>\n",
       "      <td>158.903867</td>\n",
       "      <td>34.643376</td>\n",
       "      <td>1.117018</td>\n",
       "      <td>6.636443</td>\n",
       "      <td>16.969330</td>\n",
       "      <td>0.230917</td>\n",
       "      <td>0.320379</td>\n",
       "    </tr>\n",
       "    <tr>\n",
       "      <th>min</th>\n",
       "      <td>18.000000</td>\n",
       "      <td>15000.000000</td>\n",
       "      <td>5000.000000</td>\n",
       "      <td>300.000000</td>\n",
       "      <td>0.000000</td>\n",
       "      <td>1.000000</td>\n",
       "      <td>2.000000</td>\n",
       "      <td>12.000000</td>\n",
       "      <td>0.100000</td>\n",
       "      <td>0.000000</td>\n",
       "    </tr>\n",
       "    <tr>\n",
       "      <th>25%</th>\n",
       "      <td>31.000000</td>\n",
       "      <td>48825.500000</td>\n",
       "      <td>66156.000000</td>\n",
       "      <td>437.000000</td>\n",
       "      <td>30.000000</td>\n",
       "      <td>2.000000</td>\n",
       "      <td>7.770000</td>\n",
       "      <td>24.000000</td>\n",
       "      <td>0.300000</td>\n",
       "      <td>0.000000</td>\n",
       "    </tr>\n",
       "    <tr>\n",
       "      <th>50%</th>\n",
       "      <td>43.000000</td>\n",
       "      <td>82466.000000</td>\n",
       "      <td>127556.000000</td>\n",
       "      <td>574.000000</td>\n",
       "      <td>60.000000</td>\n",
       "      <td>2.000000</td>\n",
       "      <td>13.460000</td>\n",
       "      <td>36.000000</td>\n",
       "      <td>0.500000</td>\n",
       "      <td>0.000000</td>\n",
       "    </tr>\n",
       "    <tr>\n",
       "      <th>75%</th>\n",
       "      <td>56.000000</td>\n",
       "      <td>116219.000000</td>\n",
       "      <td>188985.000000</td>\n",
       "      <td>712.000000</td>\n",
       "      <td>90.000000</td>\n",
       "      <td>3.000000</td>\n",
       "      <td>19.250000</td>\n",
       "      <td>48.000000</td>\n",
       "      <td>0.700000</td>\n",
       "      <td>0.000000</td>\n",
       "    </tr>\n",
       "    <tr>\n",
       "      <th>max</th>\n",
       "      <td>69.000000</td>\n",
       "      <td>149999.000000</td>\n",
       "      <td>249999.000000</td>\n",
       "      <td>849.000000</td>\n",
       "      <td>119.000000</td>\n",
       "      <td>4.000000</td>\n",
       "      <td>25.000000</td>\n",
       "      <td>60.000000</td>\n",
       "      <td>0.900000</td>\n",
       "      <td>1.000000</td>\n",
       "    </tr>\n",
       "  </tbody>\n",
       "</table>\n",
       "</div>"
      ],
      "text/plain": [
       "                 Age         Income     LoanAmount    CreditScore  \\\n",
       "count  255347.000000  255347.000000  255347.000000  255347.000000   \n",
       "mean       43.498306   82499.304597  127578.865512     574.264346   \n",
       "std        14.990258   38963.013729   70840.706142     158.903867   \n",
       "min        18.000000   15000.000000    5000.000000     300.000000   \n",
       "25%        31.000000   48825.500000   66156.000000     437.000000   \n",
       "50%        43.000000   82466.000000  127556.000000     574.000000   \n",
       "75%        56.000000  116219.000000  188985.000000     712.000000   \n",
       "max        69.000000  149999.000000  249999.000000     849.000000   \n",
       "\n",
       "       MonthsEmployed  NumCreditLines   InterestRate       LoanTerm  \\\n",
       "count   255347.000000   255347.000000  255347.000000  255347.000000   \n",
       "mean        59.541976        2.501036      13.492773      36.025894   \n",
       "std         34.643376        1.117018       6.636443      16.969330   \n",
       "min          0.000000        1.000000       2.000000      12.000000   \n",
       "25%         30.000000        2.000000       7.770000      24.000000   \n",
       "50%         60.000000        2.000000      13.460000      36.000000   \n",
       "75%         90.000000        3.000000      19.250000      48.000000   \n",
       "max        119.000000        4.000000      25.000000      60.000000   \n",
       "\n",
       "            DTIRatio        Default  \n",
       "count  255347.000000  255347.000000  \n",
       "mean        0.500212       0.116128  \n",
       "std         0.230917       0.320379  \n",
       "min         0.100000       0.000000  \n",
       "25%         0.300000       0.000000  \n",
       "50%         0.500000       0.000000  \n",
       "75%         0.700000       0.000000  \n",
       "max         0.900000       1.000000  "
      ]
     },
     "execution_count": 176,
     "metadata": {},
     "output_type": "execute_result"
    }
   ],
   "source": [
    "df.describe()\n"
   ]
  },
  {
   "cell_type": "code",
   "execution_count": 177,
   "id": "d6667099",
   "metadata": {},
   "outputs": [
    {
     "data": {
      "text/plain": [
       "LoanID            0\n",
       "Age               0\n",
       "Income            0\n",
       "LoanAmount        0\n",
       "CreditScore       0\n",
       "MonthsEmployed    0\n",
       "NumCreditLines    0\n",
       "InterestRate      0\n",
       "LoanTerm          0\n",
       "DTIRatio          0\n",
       "Education         0\n",
       "EmploymentType    0\n",
       "MaritalStatus     0\n",
       "HasMortgage       0\n",
       "HasDependents     0\n",
       "LoanPurpose       0\n",
       "HasCoSigner       0\n",
       "Default           0\n",
       "dtype: int64"
      ]
     },
     "execution_count": 177,
     "metadata": {},
     "output_type": "execute_result"
    }
   ],
   "source": [
    "df.isnull().sum()"
   ]
  },
  {
   "cell_type": "code",
   "execution_count": 178,
   "id": "468a9b1f",
   "metadata": {},
   "outputs": [
    {
     "data": {
      "text/plain": [
       "255347"
      ]
     },
     "execution_count": 178,
     "metadata": {},
     "output_type": "execute_result"
    }
   ],
   "source": [
    "len(df)"
   ]
  },
  {
   "cell_type": "code",
   "execution_count": 179,
   "id": "31ba1b6d",
   "metadata": {},
   "outputs": [
    {
     "name": "stdout",
     "output_type": "stream",
     "text": [
      "<class 'pandas.core.frame.DataFrame'>\n",
      "RangeIndex: 255347 entries, 0 to 255346\n",
      "Data columns (total 18 columns):\n",
      " #   Column          Non-Null Count   Dtype  \n",
      "---  ------          --------------   -----  \n",
      " 0   LoanID          255347 non-null  object \n",
      " 1   Age             255347 non-null  int64  \n",
      " 2   Income          255347 non-null  int64  \n",
      " 3   LoanAmount      255347 non-null  int64  \n",
      " 4   CreditScore     255347 non-null  int64  \n",
      " 5   MonthsEmployed  255347 non-null  int64  \n",
      " 6   NumCreditLines  255347 non-null  int64  \n",
      " 7   InterestRate    255347 non-null  float64\n",
      " 8   LoanTerm        255347 non-null  int64  \n",
      " 9   DTIRatio        255347 non-null  float64\n",
      " 10  Education       255347 non-null  object \n",
      " 11  EmploymentType  255347 non-null  object \n",
      " 12  MaritalStatus   255347 non-null  object \n",
      " 13  HasMortgage     255347 non-null  object \n",
      " 14  HasDependents   255347 non-null  object \n",
      " 15  LoanPurpose     255347 non-null  object \n",
      " 16  HasCoSigner     255347 non-null  object \n",
      " 17  Default         255347 non-null  int64  \n",
      "dtypes: float64(2), int64(8), object(8)\n",
      "memory usage: 35.1+ MB\n",
      "None\n",
      "LoanID            0\n",
      "Age               0\n",
      "Income            0\n",
      "LoanAmount        0\n",
      "CreditScore       0\n",
      "MonthsEmployed    0\n",
      "NumCreditLines    0\n",
      "InterestRate      0\n",
      "LoanTerm          0\n",
      "DTIRatio          0\n",
      "Education         0\n",
      "EmploymentType    0\n",
      "MaritalStatus     0\n",
      "HasMortgage       0\n",
      "HasDependents     0\n",
      "LoanPurpose       0\n",
      "HasCoSigner       0\n",
      "Default           0\n",
      "dtype: int64\n"
     ]
    }
   ],
   "source": [
    "# Check data types and missing values\n",
    "print(df.info())\n",
    "print(df.isnull().sum())\n",
    "\n",
    "# Fill or drop missing values\n",
    "df.fillna(df.mean(numeric_only=True), inplace=True)"
   ]
  },
  {
   "cell_type": "markdown",
   "id": "7fad94db",
   "metadata": {},
   "source": [
    "# Feature Engineering "
   ]
  },
  {
   "cell_type": "code",
   "execution_count": 180,
   "id": "9263264e",
   "metadata": {},
   "outputs": [],
   "source": [
    "# Convert Yes/No to 1/0\n",
    "yes_no_cols = ['HasMortgage', 'HasDependents', 'HasCoSigner']"
   ]
  },
  {
   "cell_type": "code",
   "execution_count": 181,
   "id": "0e811251",
   "metadata": {},
   "outputs": [],
   "source": [
    "for col in yes_no_cols:\n",
    "    df[col] = df[col].map({'Yes': 1, 'No': 0})"
   ]
  },
  {
   "cell_type": "code",
   "execution_count": 182,
   "id": "4ddacaa7",
   "metadata": {},
   "outputs": [],
   "source": [
    "df['LoanAgeRatio'] = df['LoanAmount'] / (df['Age'] + 1)\n",
    "df['IsHighLoan'] = (df['LoanAmount'] > df['LoanAmount'].median()).astype(int)\n",
    "\n"
   ]
  },
  {
   "cell_type": "code",
   "execution_count": 183,
   "id": "24834dfc",
   "metadata": {},
   "outputs": [],
   "source": [
    "df['Unemployed_HighSchool'] = ((df['EmploymentType'] == 'Unemployed') & \n",
    "                               (df['Education'] == 'High School')).astype(int)"
   ]
  },
  {
   "cell_type": "code",
   "execution_count": 184,
   "id": "0cc367ee",
   "metadata": {},
   "outputs": [],
   "source": [
    "\n",
    "df['CreditBurden'] = df['NumCreditLines'] * df['LoanAmount']"
   ]
  },
  {
   "cell_type": "code",
   "execution_count": 185,
   "id": "2be66063",
   "metadata": {},
   "outputs": [],
   "source": [
    "\n",
    "df['CreditBucket'] = pd.cut(df['CreditScore'], bins=[0, 500, 650, 800, 1000],\n",
    "                            labels=['Very Low', 'Low', 'Medium', 'High'])"
   ]
  },
  {
   "cell_type": "code",
   "execution_count": 186,
   "id": "30bba61b",
   "metadata": {},
   "outputs": [],
   "source": [
    "# One-hot encode categorical variables\n",
    "df = pd.get_dummies(df, columns=['Education', 'EmploymentType', 'MaritalStatus', 'LoanPurpose','CreditBucket'], drop_first=True)"
   ]
  },
  {
   "cell_type": "code",
   "execution_count": 187,
   "id": "928b0b78",
   "metadata": {},
   "outputs": [
    {
     "data": {
      "text/html": [
       "<div>\n",
       "<style scoped>\n",
       "    .dataframe tbody tr th:only-of-type {\n",
       "        vertical-align: middle;\n",
       "    }\n",
       "\n",
       "    .dataframe tbody tr th {\n",
       "        vertical-align: top;\n",
       "    }\n",
       "\n",
       "    .dataframe thead th {\n",
       "        text-align: right;\n",
       "    }\n",
       "</style>\n",
       "<table border=\"1\" class=\"dataframe\">\n",
       "  <thead>\n",
       "    <tr style=\"text-align: right;\">\n",
       "      <th></th>\n",
       "      <th>LoanID</th>\n",
       "      <th>Age</th>\n",
       "      <th>Income</th>\n",
       "      <th>LoanAmount</th>\n",
       "      <th>CreditScore</th>\n",
       "      <th>MonthsEmployed</th>\n",
       "      <th>NumCreditLines</th>\n",
       "      <th>InterestRate</th>\n",
       "      <th>LoanTerm</th>\n",
       "      <th>DTIRatio</th>\n",
       "      <th>...</th>\n",
       "      <th>EmploymentType_Unemployed</th>\n",
       "      <th>MaritalStatus_Married</th>\n",
       "      <th>MaritalStatus_Single</th>\n",
       "      <th>LoanPurpose_Business</th>\n",
       "      <th>LoanPurpose_Education</th>\n",
       "      <th>LoanPurpose_Home</th>\n",
       "      <th>LoanPurpose_Other</th>\n",
       "      <th>CreditBucket_Low</th>\n",
       "      <th>CreditBucket_Medium</th>\n",
       "      <th>CreditBucket_High</th>\n",
       "    </tr>\n",
       "  </thead>\n",
       "  <tbody>\n",
       "    <tr>\n",
       "      <th>0</th>\n",
       "      <td>I38PQUQS96</td>\n",
       "      <td>56</td>\n",
       "      <td>85994</td>\n",
       "      <td>50587</td>\n",
       "      <td>520</td>\n",
       "      <td>80</td>\n",
       "      <td>4</td>\n",
       "      <td>15.23</td>\n",
       "      <td>36</td>\n",
       "      <td>0.44</td>\n",
       "      <td>...</td>\n",
       "      <td>0</td>\n",
       "      <td>0</td>\n",
       "      <td>0</td>\n",
       "      <td>0</td>\n",
       "      <td>0</td>\n",
       "      <td>0</td>\n",
       "      <td>1</td>\n",
       "      <td>1</td>\n",
       "      <td>0</td>\n",
       "      <td>0</td>\n",
       "    </tr>\n",
       "    <tr>\n",
       "      <th>1</th>\n",
       "      <td>HPSK72WA7R</td>\n",
       "      <td>69</td>\n",
       "      <td>50432</td>\n",
       "      <td>124440</td>\n",
       "      <td>458</td>\n",
       "      <td>15</td>\n",
       "      <td>1</td>\n",
       "      <td>4.81</td>\n",
       "      <td>60</td>\n",
       "      <td>0.68</td>\n",
       "      <td>...</td>\n",
       "      <td>0</td>\n",
       "      <td>1</td>\n",
       "      <td>0</td>\n",
       "      <td>0</td>\n",
       "      <td>0</td>\n",
       "      <td>0</td>\n",
       "      <td>1</td>\n",
       "      <td>0</td>\n",
       "      <td>0</td>\n",
       "      <td>0</td>\n",
       "    </tr>\n",
       "    <tr>\n",
       "      <th>2</th>\n",
       "      <td>C1OZ6DPJ8Y</td>\n",
       "      <td>46</td>\n",
       "      <td>84208</td>\n",
       "      <td>129188</td>\n",
       "      <td>451</td>\n",
       "      <td>26</td>\n",
       "      <td>3</td>\n",
       "      <td>21.17</td>\n",
       "      <td>24</td>\n",
       "      <td>0.31</td>\n",
       "      <td>...</td>\n",
       "      <td>1</td>\n",
       "      <td>0</td>\n",
       "      <td>0</td>\n",
       "      <td>0</td>\n",
       "      <td>0</td>\n",
       "      <td>0</td>\n",
       "      <td>0</td>\n",
       "      <td>0</td>\n",
       "      <td>0</td>\n",
       "      <td>0</td>\n",
       "    </tr>\n",
       "    <tr>\n",
       "      <th>3</th>\n",
       "      <td>V2KKSFM3UN</td>\n",
       "      <td>32</td>\n",
       "      <td>31713</td>\n",
       "      <td>44799</td>\n",
       "      <td>743</td>\n",
       "      <td>0</td>\n",
       "      <td>3</td>\n",
       "      <td>7.07</td>\n",
       "      <td>24</td>\n",
       "      <td>0.23</td>\n",
       "      <td>...</td>\n",
       "      <td>0</td>\n",
       "      <td>1</td>\n",
       "      <td>0</td>\n",
       "      <td>1</td>\n",
       "      <td>0</td>\n",
       "      <td>0</td>\n",
       "      <td>0</td>\n",
       "      <td>0</td>\n",
       "      <td>1</td>\n",
       "      <td>0</td>\n",
       "    </tr>\n",
       "    <tr>\n",
       "      <th>4</th>\n",
       "      <td>EY08JDHTZP</td>\n",
       "      <td>60</td>\n",
       "      <td>20437</td>\n",
       "      <td>9139</td>\n",
       "      <td>633</td>\n",
       "      <td>8</td>\n",
       "      <td>4</td>\n",
       "      <td>6.51</td>\n",
       "      <td>48</td>\n",
       "      <td>0.73</td>\n",
       "      <td>...</td>\n",
       "      <td>1</td>\n",
       "      <td>0</td>\n",
       "      <td>0</td>\n",
       "      <td>0</td>\n",
       "      <td>0</td>\n",
       "      <td>0</td>\n",
       "      <td>0</td>\n",
       "      <td>1</td>\n",
       "      <td>0</td>\n",
       "      <td>0</td>\n",
       "    </tr>\n",
       "  </tbody>\n",
       "</table>\n",
       "<p>5 rows × 33 columns</p>\n",
       "</div>"
      ],
      "text/plain": [
       "       LoanID  Age  Income  LoanAmount  CreditScore  MonthsEmployed  \\\n",
       "0  I38PQUQS96   56   85994       50587          520              80   \n",
       "1  HPSK72WA7R   69   50432      124440          458              15   \n",
       "2  C1OZ6DPJ8Y   46   84208      129188          451              26   \n",
       "3  V2KKSFM3UN   32   31713       44799          743               0   \n",
       "4  EY08JDHTZP   60   20437        9139          633               8   \n",
       "\n",
       "   NumCreditLines  InterestRate  LoanTerm  DTIRatio  ...  \\\n",
       "0               4         15.23        36      0.44  ...   \n",
       "1               1          4.81        60      0.68  ...   \n",
       "2               3         21.17        24      0.31  ...   \n",
       "3               3          7.07        24      0.23  ...   \n",
       "4               4          6.51        48      0.73  ...   \n",
       "\n",
       "   EmploymentType_Unemployed  MaritalStatus_Married  MaritalStatus_Single  \\\n",
       "0                          0                      0                     0   \n",
       "1                          0                      1                     0   \n",
       "2                          1                      0                     0   \n",
       "3                          0                      1                     0   \n",
       "4                          1                      0                     0   \n",
       "\n",
       "   LoanPurpose_Business  LoanPurpose_Education  LoanPurpose_Home  \\\n",
       "0                     0                      0                 0   \n",
       "1                     0                      0                 0   \n",
       "2                     0                      0                 0   \n",
       "3                     1                      0                 0   \n",
       "4                     0                      0                 0   \n",
       "\n",
       "   LoanPurpose_Other  CreditBucket_Low  CreditBucket_Medium  CreditBucket_High  \n",
       "0                  1                 1                    0                  0  \n",
       "1                  1                 0                    0                  0  \n",
       "2                  0                 0                    0                  0  \n",
       "3                  0                 0                    1                  0  \n",
       "4                  0                 1                    0                  0  \n",
       "\n",
       "[5 rows x 33 columns]"
      ]
     },
     "execution_count": 187,
     "metadata": {},
     "output_type": "execute_result"
    }
   ],
   "source": [
    "df.head()"
   ]
  },
  {
   "cell_type": "code",
   "execution_count": 188,
   "id": "699a6db3",
   "metadata": {},
   "outputs": [],
   "source": [
    "# Features selection"
   ]
  },
  {
   "cell_type": "code",
   "execution_count": 189,
   "id": "7e6858e0",
   "metadata": {},
   "outputs": [
    {
     "data": {
      "text/plain": [
       "Default                         1.000000\n",
       "LoanAgeRatio                    0.168109\n",
       "InterestRate                    0.131273\n",
       "LoanAmount                      0.086659\n",
       "CreditBurden                    0.082311\n",
       "IsHighLoan                      0.073845\n",
       "EmploymentType_Unemployed       0.034957\n",
       "NumCreditLines                  0.028330\n",
       "Unemployed_HighSchool           0.027755\n",
       "Education_High School           0.022831\n",
       "DTIRatio                        0.019236\n",
       "LoanPurpose_Business            0.011162\n",
       "MaritalStatus_Single            0.006607\n",
       "EmploymentType_Part-time        0.006372\n",
       "LoanPurpose_Education           0.003512\n",
       "LoanPurpose_Other               0.002737\n",
       "LoanTerm                        0.000545\n",
       "CreditBucket_Low               -0.000037\n",
       "EmploymentType_Self-employed   -0.002714\n",
       "Education_Master's             -0.013314\n",
       "CreditBucket_High              -0.017504\n",
       "Education_PhD                  -0.018447\n",
       "CreditBucket_Medium            -0.018459\n",
       "LoanPurpose_Home               -0.021564\n",
       "HasMortgage                    -0.022856\n",
       "MaritalStatus_Married          -0.026875\n",
       "CreditScore                    -0.034166\n",
       "HasDependents                  -0.034678\n",
       "HasCoSigner                    -0.039109\n",
       "MonthsEmployed                 -0.097374\n",
       "Income                         -0.099119\n",
       "Age                            -0.167783\n",
       "Name: Default, dtype: float64"
      ]
     },
     "execution_count": 189,
     "metadata": {},
     "output_type": "execute_result"
    }
   ],
   "source": [
    "\n",
    "# Only numerical columns\n",
    "numeric_df = df.select_dtypes(include=[np.number])\n",
    "\n",
    "# Check correlation with target\n",
    "cor_matrix = numeric_df.corr()\n",
    "cor_matrix['Default'].sort_values(ascending=False)"
   ]
  },
  {
   "cell_type": "code",
   "execution_count": 190,
   "id": "51ee7521",
   "metadata": {},
   "outputs": [
    {
     "name": "stdout",
     "output_type": "stream",
     "text": [
      "Age                         -0.167783\n",
      "Income                      -0.099119\n",
      "LoanAmount                   0.086659\n",
      "CreditScore                 -0.034166\n",
      "MonthsEmployed              -0.097374\n",
      "InterestRate                 0.131273\n",
      "HasDependents               -0.034678\n",
      "HasCoSigner                 -0.039109\n",
      "Default                      1.000000\n",
      "LoanAgeRatio                 0.168109\n",
      "IsHighLoan                   0.073845\n",
      "CreditBurden                 0.082311\n",
      "EmploymentType_Unemployed    0.034957\n",
      "Name: Default, dtype: float64\n"
     ]
    }
   ],
   "source": [
    "import numpy as np\n",
    "\n",
    "# Select only numerical columns\n",
    "numeric_df = df.select_dtypes(include=[np.number])\n",
    "\n",
    "# Calculate correlation matrix\n",
    "cor_matrix = numeric_df.corr()\n",
    "\n",
    "# Get correlation with the target 'Default'\n",
    "target_corr = cor_matrix['Default']\n",
    "\n",
    "# Filter features with abs(correlation) > 0.3\n",
    "selected_features = target_corr[abs(target_corr) > 0.03]\n",
    "print(selected_features)\n"
   ]
  },
  {
   "cell_type": "code",
   "execution_count": 191,
   "id": "3e7c0550",
   "metadata": {},
   "outputs": [],
   "source": [
    "selected_features_number= selected_features.drop('Default')\n"
   ]
  },
  {
   "cell_type": "code",
   "execution_count": 192,
   "id": "f47b5052",
   "metadata": {},
   "outputs": [],
   "source": [
    "# chi"
   ]
  },
  {
   "cell_type": "code",
   "execution_count": 193,
   "id": "ec918eb5",
   "metadata": {},
   "outputs": [
    {
     "data": {
      "text/plain": [
       "EmploymentType_Unemployed       7.836122e-53\n",
       "MaritalStatus_Married           1.531593e-28\n",
       "Education_High School           1.690057e-23\n",
       "LoanPurpose_Home                2.015000e-22\n",
       "CreditBucket_High               3.247723e-17\n",
       "Education_PhD                   6.523608e-16\n",
       "CreditBucket_Medium             1.634425e-15\n",
       "Education_Master's              5.509735e-09\n",
       "LoanPurpose_Business            4.609683e-07\n",
       "EmploymentType_Part-time        5.335071e-03\n",
       "MaritalStatus_Single            6.397490e-03\n",
       "LoanPurpose_Education           1.123534e-01\n",
       "LoanPurpose_Other               2.159701e-01\n",
       "EmploymentType_Self-employed    2.348328e-01\n",
       "CreditBucket_Low                9.871309e-01\n",
       "dtype: float64"
      ]
     },
     "execution_count": 193,
     "metadata": {},
     "output_type": "execute_result"
    }
   ],
   "source": [
    "from sklearn.feature_selection import chi2\n",
    "from sklearn.feature_selection import SelectKBest\n",
    "\n",
    "X_cat = df.select_dtypes(include='uint8')  # One-hot encoded features\n",
    "y = df['Default']\n",
    "\n",
    "chi_scores = chi2(X_cat, y)\n",
    "p_values = pd.Series(chi_scores[1], index=X_cat.columns)\n",
    "p_values.sort_values()"
   ]
  },
  {
   "cell_type": "code",
   "execution_count": 194,
   "id": "fbd4668f",
   "metadata": {},
   "outputs": [
    {
     "name": "stdout",
     "output_type": "stream",
     "text": [
      "Selected categorical features based on Chi-Square test:\n",
      "EmploymentType_Unemployed    7.836122e-53\n",
      "MaritalStatus_Married        1.531593e-28\n",
      "Education_High School        1.690057e-23\n",
      "LoanPurpose_Home             2.015000e-22\n",
      "CreditBucket_High            3.247723e-17\n",
      "Education_PhD                6.523608e-16\n",
      "CreditBucket_Medium          1.634425e-15\n",
      "Education_Master's           5.509735e-09\n",
      "LoanPurpose_Business         4.609683e-07\n",
      "EmploymentType_Part-time     5.335071e-03\n",
      "MaritalStatus_Single         6.397490e-03\n",
      "dtype: float64\n"
     ]
    }
   ],
   "source": [
    "\n",
    "# Filter features with p-value < 0.05\n",
    "selected_features_categorical = p_values[p_values < 0.05].sort_values()\n",
    "print(\"Selected categorical features based on Chi-Square test:\")\n",
    "print(selected_features_categorical)\n"
   ]
  },
  {
   "cell_type": "code",
   "execution_count": 195,
   "id": "4f34d759",
   "metadata": {},
   "outputs": [],
   "source": [
    "selected_features=selected_features_categorical+selected_features_number\n"
   ]
  },
  {
   "cell_type": "code",
   "execution_count": 196,
   "id": "96b5e836",
   "metadata": {},
   "outputs": [],
   "source": [
    "# selected_features is a Series with feature names as index\n",
    "df= pd.concat([df[['Default']], df[selected_features.index]], axis=1)\n"
   ]
  },
  {
   "cell_type": "code",
   "execution_count": 197,
   "id": "fe033bec",
   "metadata": {},
   "outputs": [],
   "source": [
    "# Split X (features) and y (target)"
   ]
  },
  {
   "cell_type": "code",
   "execution_count": 198,
   "id": "a53e64d2",
   "metadata": {},
   "outputs": [],
   "source": [
    "X = df.drop('Default', axis=1)\n",
    "y = df['Default']\n"
   ]
  },
  {
   "cell_type": "code",
   "execution_count": 199,
   "id": "708ace6f",
   "metadata": {},
   "outputs": [],
   "source": [
    "# Train/Test Split"
   ]
  },
  {
   "cell_type": "code",
   "execution_count": 200,
   "id": "6b55d8aa",
   "metadata": {},
   "outputs": [],
   "source": [
    "X_train, X_test, y_train, y_test = train_test_split(X, y, test_size=0.2, random_state=42)\n"
   ]
  },
  {
   "cell_type": "code",
   "execution_count": 201,
   "id": "ac998672",
   "metadata": {},
   "outputs": [],
   "source": [
    "# Build & Train Logistic Regression Model"
   ]
  },
  {
   "cell_type": "code",
   "execution_count": 202,
   "id": "e25f1e05",
   "metadata": {},
   "outputs": [
    {
     "data": {
      "text/plain": [
       "LogisticRegression(max_iter=1000)"
      ]
     },
     "execution_count": 202,
     "metadata": {},
     "output_type": "execute_result"
    }
   ],
   "source": [
    "model = LogisticRegression(max_iter=1000)\n",
    "model.fit(X_train, y_train)\n"
   ]
  },
  {
   "cell_type": "code",
   "execution_count": 203,
   "id": "e592cd14",
   "metadata": {},
   "outputs": [],
   "source": [
    "# Evaluate the Model"
   ]
  },
  {
   "cell_type": "code",
   "execution_count": 204,
   "id": "db54d1f4",
   "metadata": {},
   "outputs": [
    {
     "name": "stdout",
     "output_type": "stream",
     "text": [
      "Accuracy: 0.88455061680047\n",
      "Confusion Matrix:\n",
      " [[45039   131]\n",
      " [ 5765   135]]\n",
      "Classification Report:\n",
      "               precision    recall  f1-score   support\n",
      "\n",
      "           0       0.89      1.00      0.94     45170\n",
      "           1       0.51      0.02      0.04      5900\n",
      "\n",
      "    accuracy                           0.88     51070\n",
      "   macro avg       0.70      0.51      0.49     51070\n",
      "weighted avg       0.84      0.88      0.84     51070\n",
      "\n"
     ]
    }
   ],
   "source": [
    "y_pred = model.predict(X_test)\n",
    "\n",
    "print(\"Accuracy:\", accuracy_score(y_test, y_pred))\n",
    "print(\"Confusion Matrix:\\n\", confusion_matrix(y_test, y_pred))\n",
    "print(\"Classification Report:\\n\", classification_report(y_test, y_pred))\n"
   ]
  },
  {
   "cell_type": "code",
   "execution_count": 205,
   "id": "57dcee82",
   "metadata": {},
   "outputs": [],
   "source": [
    "# ROC Curve & AUC"
   ]
  },
  {
   "cell_type": "code",
   "execution_count": 206,
   "id": "104a0da5",
   "metadata": {},
   "outputs": [
    {
     "data": {
      "image/png": "[encoded data removed]",
      "text/plain": [
       "<Figure size 432x288 with 1 Axes>"
      ]
     },
     "metadata": {
      "needs_background": "light"
     },
     "output_type": "display_data"
    },
    {
     "name": "stdout",
     "output_type": "stream",
     "text": [
      "AUC Score: 0.6935385717984413\n"
     ]
    }
   ],
   "source": [
    "y_prob = model.predict_proba(X_test)[:, 1]\n",
    "\n",
    "fpr, tpr, _ = roc_curve(y_test, y_prob)\n",
    "\n",
    "plt.plot(fpr, tpr, label='ROC Curve')\n",
    "plt.xlabel('False Positive Rate')\n",
    "plt.ylabel('True Positive Rate')\n",
    "plt.title('ROC Curve')\n",
    "plt.legend()\n",
    "plt.show()\n",
    "\n",
    "print(\"AUC Score:\", roc_auc_score(y_test, y_prob))\n"
   ]
  },
  {
   "cell_type": "code",
   "execution_count": 207,
   "id": "f0c7806a",
   "metadata": {},
   "outputs": [],
   "source": [
    "# Feature Importance"
   ]
  },
  {
   "cell_type": "code",
   "execution_count": 208,
   "id": "610e9121",
   "metadata": {},
   "outputs": [
    {
     "data": {
      "image/png": "[encoded data removed]",
      "text/plain": [
       "<Figure size 720x432 with 1 Axes>"
      ]
     },
     "metadata": {
      "needs_background": "light"
     },
     "output_type": "display_data"
    }
   ],
   "source": [
    "# Feature Importance (based on model coefficients)\n",
    "coef_df = pd.Series(model.coef_[0], index=X.columns)\n",
    "coef_df.sort_values().plot(kind='barh', figsize=(10,6), title='Feature Importance')\n",
    "plt.show()\n"
   ]
  },
  {
   "cell_type": "code",
   "execution_count": null,
   "id": "bc7f4e07",
   "metadata": {},
   "outputs": [],
   "source": []
  },
  {
   "cell_type": "code",
   "execution_count": null,
   "id": "90d8eda2",
   "metadata": {},
   "outputs": [],
   "source": []
  }
 ],
 "metadata": {
  "kernelspec": {
   "display_name": "Python 3 (ipykernel)",
   "language": "python",
   "name": "python3"
  },
  "language_info": {
   "codemirror_mode": {
    "name": "ipython",
    "version": 3
   },
   "file_extension": ".py",
   "mimetype": "text/x-python",
   "name": "python",
   "nbconvert_exporter": "python",
   "pygments_lexer": "ipython3",
   "version": "3.9.7"
  }
 },
 "nbformat": 4,
 "nbformat_minor": 5
}
