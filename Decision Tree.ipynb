{
 "cells": [
  {
   "cell_type": "code",
   "execution_count": null,
   "id": "35585f3c",
   "metadata": {},
   "outputs": [],
   "source": [
    "# pip install ucimlrepo"
   ]
  },
  {
   "cell_type": "code",
   "execution_count": 34,
   "id": "75b9f592",
   "metadata": {},
   "outputs": [],
   "source": [
    "import pandas as pd\n",
    "import numpy as np\n",
    "\n",
    "# Set random seed for reproducibility\n",
    "np.random.seed(42)\n",
    "\n",
    "# Create 2000 records\n",
    "n = 10000\n",
    "\n",
    "# Sample features\n",
    "gender = np.random.choice(['Male', 'Female'], n)\n",
    "age = np.random.randint(18, 70, n)\n",
    "income = np.random.normal(loc=50000, scale=15000, size=n).astype(int)\n",
    "employment_status = np.random.choice(['Employed', 'Self-employed', 'Unemployed', 'Student'], n)\n",
    "credit_score = np.random.randint(300, 850, n)\n",
    "existing_debt = np.round(np.random.uniform(0.0, 1.0, n), 2)\n",
    "\n",
    "# Approval based on simple rule for illustration\n",
    "approved = ((income > 40000) & (credit_score > 650) & (existing_debt < 0.4)).astype(int)\n",
    "\n",
    "# Create DataFrame\n",
    "df = pd.DataFrame({\n",
    "    'Gender': gender,\n",
    "    'Age': age,\n",
    "    'Income': income,\n",
    "    'Employment_Status': employment_status,\n",
    "    'Credit_Score': credit_score,\n",
    "    'Existing_Debt': existing_debt,\n",
    "    'Approved': approved\n",
    "})\n",
    "\n",
    "\n"
   ]
  },
  {
   "cell_type": "code",
   "execution_count": 35,
   "id": "e19fd78f",
   "metadata": {},
   "outputs": [
    {
     "data": {
      "text/plain": [
       "(In Progress     4743\n",
       " Not Approved    4148\n",
       " Approved        1109\n",
       " Name: Status, dtype: int64,\n",
       "    Gender  Age  Income Employment_Status  Credit_Score  Existing_Debt  \\\n",
       " 0    Male   68   60189           Student           674           0.58   \n",
       " 1  Female   57   39347        Unemployed           681           0.59   \n",
       " 2    Male   24   18279     Self-employed           788           0.78   \n",
       " 3    Male   49   43641        Unemployed           608           0.22   \n",
       " 4    Male   65   50948     Self-employed           434           0.53   \n",
       " \n",
       "          Status  \n",
       " 0   In Progress  \n",
       " 1   In Progress  \n",
       " 2  Not Approved  \n",
       " 3   In Progress  \n",
       " 4  Not Approved  )"
      ]
     },
     "execution_count": 35,
     "metadata": {},
     "output_type": "execute_result"
    }
   ],
   "source": [
    "# Modify the label to be multi-class: 'Approved', 'Not Approved', 'In Progress'\n",
    "# Logic:\n",
    "# - Approved: income > 40000, credit_score > 650, existing_debt < 0.4\n",
    "# - Not Approved: income < 30000 or credit_score < 500\n",
    "# - In Progress: everyone else\n",
    "\n",
    "def determine_status(income, credit_score, existing_debt):\n",
    "    if income > 40000 and credit_score > 650 and existing_debt < 0.4:\n",
    "        return 'Approved'\n",
    "    elif income < 30000 or credit_score < 500:\n",
    "        return 'Not Approved'\n",
    "    else:\n",
    "        return 'In Progress'\n",
    "\n",
    "# Apply function\n",
    "df['Status'] = df.apply(lambda row: determine_status(row['Income'], row['Credit_Score'], row['Existing_Debt']), axis=1)\n",
    "\n",
    "# Drop the old binary Approved column\n",
    "df.drop(columns=['Approved'], inplace=True)\n",
    "\n",
    "df['Status'].value_counts(), df.head()\n"
   ]
  },
  {
   "cell_type": "code",
   "execution_count": 36,
   "id": "bee95519",
   "metadata": {},
   "outputs": [
    {
     "data": {
      "text/html": [
       "<div>\n",
       "<style scoped>\n",
       "    .dataframe tbody tr th:only-of-type {\n",
       "        vertical-align: middle;\n",
       "    }\n",
       "\n",
       "    .dataframe tbody tr th {\n",
       "        vertical-align: top;\n",
       "    }\n",
       "\n",
       "    .dataframe thead th {\n",
       "        text-align: right;\n",
       "    }\n",
       "</style>\n",
       "<table border=\"1\" class=\"dataframe\">\n",
       "  <thead>\n",
       "    <tr style=\"text-align: right;\">\n",
       "      <th></th>\n",
       "      <th>Gender</th>\n",
       "      <th>Age</th>\n",
       "      <th>Income</th>\n",
       "      <th>Employment_Status</th>\n",
       "      <th>Credit_Score</th>\n",
       "      <th>Existing_Debt</th>\n",
       "      <th>Status</th>\n",
       "    </tr>\n",
       "  </thead>\n",
       "  <tbody>\n",
       "    <tr>\n",
       "      <th>0</th>\n",
       "      <td>Male</td>\n",
       "      <td>68</td>\n",
       "      <td>60189</td>\n",
       "      <td>Student</td>\n",
       "      <td>674</td>\n",
       "      <td>0.58</td>\n",
       "      <td>In Progress</td>\n",
       "    </tr>\n",
       "    <tr>\n",
       "      <th>1</th>\n",
       "      <td>Female</td>\n",
       "      <td>57</td>\n",
       "      <td>39347</td>\n",
       "      <td>Unemployed</td>\n",
       "      <td>681</td>\n",
       "      <td>0.59</td>\n",
       "      <td>In Progress</td>\n",
       "    </tr>\n",
       "    <tr>\n",
       "      <th>2</th>\n",
       "      <td>Male</td>\n",
       "      <td>24</td>\n",
       "      <td>18279</td>\n",
       "      <td>Self-employed</td>\n",
       "      <td>788</td>\n",
       "      <td>0.78</td>\n",
       "      <td>Not Approved</td>\n",
       "    </tr>\n",
       "    <tr>\n",
       "      <th>3</th>\n",
       "      <td>Male</td>\n",
       "      <td>49</td>\n",
       "      <td>43641</td>\n",
       "      <td>Unemployed</td>\n",
       "      <td>608</td>\n",
       "      <td>0.22</td>\n",
       "      <td>In Progress</td>\n",
       "    </tr>\n",
       "    <tr>\n",
       "      <th>4</th>\n",
       "      <td>Male</td>\n",
       "      <td>65</td>\n",
       "      <td>50948</td>\n",
       "      <td>Self-employed</td>\n",
       "      <td>434</td>\n",
       "      <td>0.53</td>\n",
       "      <td>Not Approved</td>\n",
       "    </tr>\n",
       "  </tbody>\n",
       "</table>\n",
       "</div>"
      ],
      "text/plain": [
       "   Gender  Age  Income Employment_Status  Credit_Score  Existing_Debt  \\\n",
       "0    Male   68   60189           Student           674           0.58   \n",
       "1  Female   57   39347        Unemployed           681           0.59   \n",
       "2    Male   24   18279     Self-employed           788           0.78   \n",
       "3    Male   49   43641        Unemployed           608           0.22   \n",
       "4    Male   65   50948     Self-employed           434           0.53   \n",
       "\n",
       "         Status  \n",
       "0   In Progress  \n",
       "1   In Progress  \n",
       "2  Not Approved  \n",
       "3   In Progress  \n",
       "4  Not Approved  "
      ]
     },
     "execution_count": 36,
     "metadata": {},
     "output_type": "execute_result"
    }
   ],
   "source": [
    "df.head()"
   ]
  },
  {
   "cell_type": "code",
   "execution_count": 37,
   "id": "014d6230",
   "metadata": {},
   "outputs": [],
   "source": [
    "# Data Cleaning"
   ]
  },
  {
   "cell_type": "code",
   "execution_count": 38,
   "id": "cb429ee1",
   "metadata": {},
   "outputs": [
    {
     "data": {
      "text/plain": [
       "Gender               0\n",
       "Age                  0\n",
       "Income               0\n",
       "Employment_Status    0\n",
       "Credit_Score         0\n",
       "Existing_Debt        0\n",
       "Status               0\n",
       "dtype: int64"
      ]
     },
     "execution_count": 38,
     "metadata": {},
     "output_type": "execute_result"
    }
   ],
   "source": [
    "df.isnull().sum()\n"
   ]
  },
  {
   "cell_type": "code",
   "execution_count": 39,
   "id": "178f6008",
   "metadata": {},
   "outputs": [],
   "source": [
    "# Feature Engineering"
   ]
  },
  {
   "cell_type": "code",
   "execution_count": 40,
   "id": "b2469e31",
   "metadata": {},
   "outputs": [],
   "source": [
    "from sklearn.preprocessing import LabelEncoder, OneHotEncoder\n",
    "label_encoder = LabelEncoder()\n",
    "df['Gender'] = label_encoder.fit_transform(df['Gender'])  # Male: 1, Female: 0\n",
    "df = pd.get_dummies(df, columns=['Employment_Status'], drop_first=True)  # One-Hot Encoding\n"
   ]
  },
  {
   "cell_type": "code",
   "execution_count": 41,
   "id": "6f768657",
   "metadata": {},
   "outputs": [],
   "source": [
    "from sklearn.preprocessing import StandardScaler\n",
    "scaler = StandardScaler()\n",
    "df[['Income', 'Credit_Score', 'Existing_Debt']] = scaler.fit_transform(df[['Income', 'Credit_Score', 'Existing_Debt']])\n"
   ]
  },
  {
   "cell_type": "code",
   "execution_count": 42,
   "id": "137f7215",
   "metadata": {},
   "outputs": [],
   "source": [
    "# Splitting the Dataset"
   ]
  },
  {
   "cell_type": "code",
   "execution_count": 54,
   "id": "9c9469ed",
   "metadata": {},
   "outputs": [],
   "source": [
    "X = df.drop(columns=['Status'])\n",
    "y = df['Status']\n",
    "\n",
    "from sklearn.model_selection import train_test_split\n",
    "X_train, X_test, y_train, y_test = train_test_split(X, y, test_size=0.3, random_state=42)\n"
   ]
  },
  {
   "cell_type": "code",
   "execution_count": 55,
   "id": "ba15caca",
   "metadata": {},
   "outputs": [],
   "source": [
    "# Building the Decision Tree Model"
   ]
  },
  {
   "cell_type": "code",
   "execution_count": 56,
   "id": "1d8b7dbf",
   "metadata": {},
   "outputs": [
    {
     "data": {
      "text/plain": [
       "DecisionTreeClassifier(random_state=42)"
      ]
     },
     "execution_count": 56,
     "metadata": {},
     "output_type": "execute_result"
    }
   ],
   "source": [
    "from sklearn.tree import DecisionTreeClassifier\n",
    "model = DecisionTreeClassifier(criterion='gini',random_state=42)\n",
    "model.fit(X_train, y_train)\n"
   ]
  },
  {
   "cell_type": "code",
   "execution_count": 57,
   "id": "e6b40faf",
   "metadata": {},
   "outputs": [],
   "source": [
    "# Model Evaluation:"
   ]
  },
  {
   "cell_type": "code",
   "execution_count": 58,
   "id": "30ba0ecd",
   "metadata": {},
   "outputs": [
    {
     "name": "stdout",
     "output_type": "stream",
     "text": [
      "0.9996666666666667\n",
      "              precision    recall  f1-score   support\n",
      "\n",
      "    Approved       1.00      1.00      1.00       333\n",
      " In Progress       1.00      1.00      1.00      1415\n",
      "Not Approved       1.00      1.00      1.00      1252\n",
      "\n",
      "    accuracy                           1.00      3000\n",
      "   macro avg       1.00      1.00      1.00      3000\n",
      "weighted avg       1.00      1.00      1.00      3000\n",
      "\n",
      "[[ 332    1    0]\n",
      " [   0 1415    0]\n",
      " [   0    0 1252]]\n"
     ]
    }
   ],
   "source": [
    "from sklearn.metrics import accuracy_score, classification_report, confusion_matrix\n",
    "y_pred = model.predict(X_test)\n",
    "print(accuracy_score(y_test, y_pred))\n",
    "print(classification_report(y_test, y_pred))\n",
    "print(confusion_matrix(y_test, y_pred))\n"
   ]
  },
  {
   "cell_type": "code",
   "execution_count": 62,
   "id": "3856fe4d",
   "metadata": {},
   "outputs": [
    {
     "name": "stdout",
     "output_type": "stream",
     "text": [
      "AUC: 0.9996845425867508\n",
      "Gini Coefficient: 0.9993690851735015\n"
     ]
    }
   ],
   "source": [
    "from sklearn.metrics import roc_auc_score\n",
    "\n",
    "# Get the predicted probabilities for each class\n",
    "y_prob = model.predict_proba(X_test)\n",
    "\n",
    "# Calculate AUC using One-vs-Rest (OvR) strategy\n",
    "auc = roc_auc_score(y_test, y_prob, multi_class='ovr', average='weighted')\n",
    "\n",
    "# Calculate Gini Coefficient\n",
    "gini_score = 2 * auc - 1\n",
    "\n",
    "# Display AUC and Gini Coefficient\n",
    "print(f\"AUC: {auc}\")\n",
    "print(f\"Gini Coefficient: {gini_score}\")\n"
   ]
  },
  {
   "cell_type": "code",
   "execution_count": null,
   "id": "c90d355d",
   "metadata": {},
   "outputs": [],
   "source": []
  },
  {
   "cell_type": "code",
   "execution_count": null,
   "id": "b248b068",
   "metadata": {},
   "outputs": [],
   "source": [
    "# Fine-tuning the Model (Optional)"
   ]
  },
  {
   "cell_type": "code",
   "execution_count": 30,
   "id": "71ff72a3",
   "metadata": {},
   "outputs": [
    {
     "name": "stdout",
     "output_type": "stream",
     "text": [
      "{'max_depth': 5, 'min_samples_leaf': 1, 'min_samples_split': 2}\n"
     ]
    }
   ],
   "source": [
    "from sklearn.model_selection import GridSearchCV\n",
    "param_grid = {\n",
    "    'max_depth': [3, 5, 10, None],\n",
    "    'min_samples_split': [2, 5, 10],\n",
    "    'min_samples_leaf': [1, 2, 5]\n",
    "}\n",
    "grid_search = GridSearchCV(DecisionTreeClassifier(), param_grid, cv=5)\n",
    "grid_search.fit(X_train, y_train)\n",
    "print(grid_search.best_params_)\n"
   ]
  },
  {
   "cell_type": "code",
   "execution_count": 31,
   "id": "75498ecc",
   "metadata": {},
   "outputs": [
    {
     "name": "stdout",
     "output_type": "stream",
     "text": [
      "[1.     0.9995 0.9995 1.     1.    ]\n"
     ]
    }
   ],
   "source": [
    "from sklearn.model_selection import cross_val_score\n",
    "scores = cross_val_score(model, X, y, cv=5)\n",
    "print(scores)\n"
   ]
  },
  {
   "cell_type": "code",
   "execution_count": null,
   "id": "1b857526",
   "metadata": {},
   "outputs": [],
   "source": []
  }
 ],
 "metadata": {
  "kernelspec": {
   "display_name": "Python 3 (ipykernel)",
   "language": "python",
   "name": "python3"
  },
  "language_info": {
   "codemirror_mode": {
    "name": "ipython",
    "version": 3
   },
   "file_extension": ".py",
   "mimetype": "text/x-python",
   "name": "python",
   "nbconvert_exporter": "python",
   "pygments_lexer": "ipython3",
   "version": "3.9.7"
  }
 },
 "nbformat": 4,
 "nbformat_minor": 5
}
